{
 "cells": [
  {
   "cell_type": "code",
   "execution_count": 1,
   "id": "6365c98b-0741-4eb9-8616-65cec2f3f301",
   "metadata": {},
   "outputs": [],
   "source": [
    "from pyspark.sql import SparkSession\n",
    "import pyspark.sql.functions as F\n",
    "from pyspark.sql.functions import col\n",
    "from graphframes import *\n",
    "from pyspark.sql.functions import concat_ws"
   ]
  },
  {
   "cell_type": "code",
   "execution_count": 2,
   "id": "d44c788e-42aa-455e-af40-f9060e419701",
   "metadata": {},
   "outputs": [
    {
     "data": {
      "text/plain": [
       "[('spark.driver.extraJavaOptions',\n",
       "  '-XX:+IgnoreUnrecognizedVMOptions --add-opens=java.base/java.lang=ALL-UNNAMED --add-opens=java.base/java.lang.invoke=ALL-UNNAMED --add-opens=java.base/java.lang.reflect=ALL-UNNAMED --add-opens=java.base/java.io=ALL-UNNAMED --add-opens=java.base/java.net=ALL-UNNAMED --add-opens=java.base/java.nio=ALL-UNNAMED --add-opens=java.base/java.util=ALL-UNNAMED --add-opens=java.base/java.util.concurrent=ALL-UNNAMED --add-opens=java.base/java.util.concurrent.atomic=ALL-UNNAMED --add-opens=java.base/sun.nio.ch=ALL-UNNAMED --add-opens=java.base/sun.nio.cs=ALL-UNNAMED --add-opens=java.base/sun.security.action=ALL-UNNAMED --add-opens=java.base/sun.util.calendar=ALL-UNNAMED --add-opens=java.security.jgss/sun.security.krb5=ALL-UNNAMED'),\n",
       " ('spark.driver.port', '39013'),\n",
       " ('spark.submit.pyFiles',\n",
       "  '/home/jovyan/.ivy2/jars/graphframes_graphframes-0.8.1-spark2.4-s_2.11.jar,/home/jovyan/.ivy2/jars/org.slf4j_slf4j-api-1.7.16.jar'),\n",
       " ('spark.driver.host', '972a856b75c2'),\n",
       " ('spark.driver.memory', '4g'),\n",
       " ('spark.executor.memory', '4g'),\n",
       " ('spark.executor.id', 'driver'),\n",
       " ('spark.cores.max', '4'),\n",
       " ('spark.executor.cores', '4'),\n",
       " ('spark.app.initial.file.urls',\n",
       "  'file:///home/jovyan/.ivy2/jars/graphframes_graphframes-0.8.1-spark2.4-s_2.11.jar,file:///home/jovyan/.ivy2/jars/org.slf4j_slf4j-api-1.7.16.jar'),\n",
       " ('spark.jars.packages', 'graphframes:graphframes:0.8.1-spark2.4-s_2.11'),\n",
       " ('spark.app.initial.jar.urls',\n",
       "  'spark://972a856b75c2:39013/jars/graphframes_graphframes-0.8.1-spark2.4-s_2.11.jar,spark://972a856b75c2:39013/jars/org.slf4j_slf4j-api-1.7.16.jar'),\n",
       " ('spark.app.name', 'Spark Updated Conf'),\n",
       " ('spark.rdd.compress', 'True'),\n",
       " ('spark.executor.extraJavaOptions',\n",
       "  '-XX:+IgnoreUnrecognizedVMOptions --add-opens=java.base/java.lang=ALL-UNNAMED --add-opens=java.base/java.lang.invoke=ALL-UNNAMED --add-opens=java.base/java.lang.reflect=ALL-UNNAMED --add-opens=java.base/java.io=ALL-UNNAMED --add-opens=java.base/java.net=ALL-UNNAMED --add-opens=java.base/java.nio=ALL-UNNAMED --add-opens=java.base/java.util=ALL-UNNAMED --add-opens=java.base/java.util.concurrent=ALL-UNNAMED --add-opens=java.base/java.util.concurrent.atomic=ALL-UNNAMED --add-opens=java.base/sun.nio.ch=ALL-UNNAMED --add-opens=java.base/sun.nio.cs=ALL-UNNAMED --add-opens=java.base/sun.security.action=ALL-UNNAMED --add-opens=java.base/sun.util.calendar=ALL-UNNAMED --add-opens=java.security.jgss/sun.security.krb5=ALL-UNNAMED'),\n",
       " ('spark.jars',\n",
       "  'file:///home/jovyan/.ivy2/jars/graphframes_graphframes-0.8.1-spark2.4-s_2.11.jar,file:///home/jovyan/.ivy2/jars/org.slf4j_slf4j-api-1.7.16.jar'),\n",
       " ('spark.app.startTime', '1678166018490'),\n",
       " ('spark.serializer.objectStreamReset', '100'),\n",
       " ('spark.master', 'local[*]'),\n",
       " ('spark.repl.local.jars',\n",
       "  'file:///home/jovyan/.ivy2/jars/graphframes_graphframes-0.8.1-spark2.4-s_2.11.jar,file:///home/jovyan/.ivy2/jars/org.slf4j_slf4j-api-1.7.16.jar'),\n",
       " ('spark.submit.deployMode', 'client'),\n",
       " ('spark.app.id', 'local-1678166018943'),\n",
       " ('spark.files',\n",
       "  'file:///home/jovyan/.ivy2/jars/graphframes_graphframes-0.8.1-spark2.4-s_2.11.jar,file:///home/jovyan/.ivy2/jars/org.slf4j_slf4j-api-1.7.16.jar'),\n",
       " ('spark.ui.showConsoleProgress', 'true'),\n",
       " ('spark.app.submitTime', '1678166018314')]"
      ]
     },
     "execution_count": 2,
     "metadata": {},
     "output_type": "execute_result"
    }
   ],
   "source": [
    "spark = SparkSession.builder.appName(\"GraphFlightsAnalysis\") \\\n",
    ".config(\"spark.jars.packages\", \"graphframes:graphframes:0.8.1-spark2.4-s_2.11\") \\\n",
    ".getOrCreate()\n",
    "\n",
    "#change configuration settings on Spark \n",
    "conf = spark.sparkContext._conf.setAll([('spark.executor.memory', '4g'), ('spark.app.name', 'Spark Updated Conf'), ('spark.executor.cores', '4'), ('spark.cores.max', '4'), ('spark.driver.memory','4g')])\n",
    "\n",
    "#print spark configuration settings\n",
    "spark.sparkContext.getConf().getAll()"
   ]
  },
  {
   "cell_type": "code",
   "execution_count": 3,
   "id": "a76c2bb1-8688-4f9a-846b-3e0a06c117c4",
   "metadata": {},
   "outputs": [
    {
     "name": "stdout",
     "output_type": "stream",
     "text": [
      "+-----------+--------------+---------+---------+--------------+-------------------+-------------------+--------------------+-------------------+-----------------+-------------------+--------+-------------------+------------------+---------------+-----+---+-----------+--------------------+---------------+-------------------------+\n",
      "|elapsedDays|isBasicEconomy|isNonStop|totalFare|seatsRemaining|totalTravelDistance|      DepartureTime|DepartureAirportCode|segmentsAirlineName|date_diff_in_days|duration_in_minutes|Segments|        ArrivalTime|ArrivalAirportCode|Sentiment_score|month|day|day_of_week|isBasicEconomy_index|isNonStop_index|segmentsAirlineName_index|\n",
      "+-----------+--------------+---------+---------+--------------+-------------------+-------------------+--------------------+-------------------+-----------------+-------------------+--------+-------------------+------------------+---------------+-----+---+-----------+--------------------+---------------+-------------------------+\n",
      "|          0|         false|     true|    398.6|             2|                947|2022-04-17 22:29:00|                 ATL|              Delta|                1|                155|       1|2022-04-18 01:04:00|               BOS|     -0.1849685|    4| 17|          1|                 0.0|            1.0|                      4.0|\n",
      "+-----------+--------------+---------+---------+--------------+-------------------+-------------------+--------------------+-------------------+-----------------+-------------------+--------+-------------------+------------------+---------------+-----+---+-----------+--------------------+---------------+-------------------------+\n",
      "only showing top 1 row\n",
      "\n"
     ]
    }
   ],
   "source": [
    "dataDir = \"/home/jovyan/work\"\n",
    "df_encoded = spark.read.csv(dataDir+\"/encoded_sampled_data_10_percent.csv\", header=True, inferSchema=True)\n",
    "df_encoded.show(1)"
   ]
  },
  {
   "cell_type": "code",
   "execution_count": 4,
   "id": "99ddee51-6469-4968-a9f3-738c7783b378",
   "metadata": {},
   "outputs": [
    {
     "name": "stdout",
     "output_type": "stream",
     "text": [
      "+---+\n",
      "| id|\n",
      "+---+\n",
      "|OAK|\n",
      "|LGA|\n",
      "|TTN|\n",
      "|BOS|\n",
      "|EWR|\n",
      "|DEN|\n",
      "|IAD|\n",
      "|CLT|\n",
      "|DAL|\n",
      "|MIA|\n",
      "|DFW|\n",
      "|SFO|\n",
      "|ATL|\n",
      "|ORD|\n",
      "|DTW|\n",
      "|ONT|\n",
      "|LAX|\n",
      "|JFK|\n",
      "|PHL|\n",
      "|SJU|\n",
      "|SAN|\n",
      "|BJC|\n",
      "|PIT|\n",
      "|BOG|\n",
      "|SLC|\n",
      "|PBI|\n",
      "+---+\n",
      "\n"
     ]
    }
   ],
   "source": [
    "vertices = df_encoded.select(\"DepartureAirportCode\").distinct()\n",
    "vertices = vertices.withColumnRenamed(\"DepartureAirportCode\", \"id\")\n",
    "vertices.show(30)   # 26 diff values"
   ]
  },
  {
   "cell_type": "code",
   "execution_count": 5,
   "id": "36b4fa53-255c-4da0-b8c1-ecc9a1ed1245",
   "metadata": {},
   "outputs": [
    {
     "name": "stdout",
     "output_type": "stream",
     "text": [
      "+--------------------+------------------+\n",
      "|DepartureAirportCode|ArrivalAirportCode|\n",
      "+--------------------+------------------+\n",
      "|                 ATL|               BOS|\n",
      "|                 ATL|               DEN|\n",
      "+--------------------+------------------+\n",
      "only showing top 2 rows\n",
      "\n"
     ]
    }
   ],
   "source": [
    "edges = df_encoded.select(\"DepartureAirportCode\", \"ArrivalAirportCode\")\n",
    "edges.show(2)"
   ]
  },
  {
   "cell_type": "code",
   "execution_count": 6,
   "id": "d1403a4d-cb80-4d01-ab50-2f54859d3eed",
   "metadata": {},
   "outputs": [],
   "source": [
    "edges = edges.withColumnRenamed('DepartureAirportCode', 'src').withColumnRenamed('ArrivalAirportCode', 'dst')"
   ]
  },
  {
   "cell_type": "code",
   "execution_count": 7,
   "id": "2ed47afe-6a57-4992-ad51-6fa191350e41",
   "metadata": {},
   "outputs": [
    {
     "name": "stdout",
     "output_type": "stream",
     "text": [
      "+---+\n",
      "| id|\n",
      "+---+\n",
      "|OAK|\n",
      "+---+\n",
      "only showing top 1 row\n",
      "\n"
     ]
    }
   ],
   "source": [
    "vertices.show(1)"
   ]
  },
  {
   "cell_type": "code",
   "execution_count": 8,
   "id": "487f4831-0602-436b-9e5b-4ddbb8b500b1",
   "metadata": {},
   "outputs": [
    {
     "name": "stdout",
     "output_type": "stream",
     "text": [
      "+---+---+\n",
      "|src|dst|\n",
      "+---+---+\n",
      "|ATL|BOS|\n",
      "+---+---+\n",
      "only showing top 1 row\n",
      "\n"
     ]
    }
   ],
   "source": [
    "edges.show(1)"
   ]
  },
  {
   "cell_type": "code",
   "execution_count": 9,
   "id": "2af0328f-9333-487d-8672-1d93be250fa2",
   "metadata": {},
   "outputs": [],
   "source": [
    "# Filter out any rows with null values in src or dst columns\n",
    "\n",
    "edges = edges.na.drop()\n",
    "vertices = vertices.na.drop()"
   ]
  },
  {
   "cell_type": "code",
   "execution_count": 10,
   "id": "5013f973-34e0-43eb-afd2-284f5776619e",
   "metadata": {},
   "outputs": [],
   "source": [
    "from pyspark.sql.functions import isnull\n",
    "\n",
    "null_count2 = vertices.filter(isnull(\"id\")).count()\n",
    "null_count4 = edges.filter(isnull(\"src\")).count()\n",
    "null_count5 = edges.filter(isnull(\"dst\")).count()"
   ]
  },
  {
   "cell_type": "code",
   "execution_count": 11,
   "id": "8c102049-b103-4f22-8f6f-eb8de7473e53",
   "metadata": {},
   "outputs": [
    {
     "data": {
      "text/plain": [
       "(0, 0, 0)"
      ]
     },
     "execution_count": 11,
     "metadata": {},
     "output_type": "execute_result"
    }
   ],
   "source": [
    "null_count2,null_count4,null_count5"
   ]
  },
  {
   "cell_type": "code",
   "execution_count": 12,
   "id": "f97de432-abb7-4768-8320-950aca60241b",
   "metadata": {},
   "outputs": [
    {
     "name": "stderr",
     "output_type": "stream",
     "text": [
      "/usr/local/spark/python/pyspark/sql/dataframe.py:148: UserWarning: DataFrame.sql_ctx is an internal property, and will be removed in future releases. Use DataFrame.sparkSession instead.\n",
      "  warnings.warn(\n"
     ]
    }
   ],
   "source": [
    "graph = GraphFrame(vertices, edges)"
   ]
  },
  {
   "cell_type": "code",
   "execution_count": 13,
   "id": "8e289183-ecd9-48bc-a2e6-81996a1dda57",
   "metadata": {},
   "outputs": [
    {
     "name": "stdout",
     "output_type": "stream",
     "text": [
      "+---+\n",
      "| id|\n",
      "+---+\n",
      "|OAK|\n",
      "|LGA|\n",
      "|TTN|\n",
      "|BOS|\n",
      "|EWR|\n",
      "+---+\n",
      "only showing top 5 rows\n",
      "\n"
     ]
    }
   ],
   "source": [
    "graph.vertices.show(5)"
   ]
  },
  {
   "cell_type": "code",
   "execution_count": 14,
   "id": "a53eb3f9-3270-4baf-a20c-a1d1d1918671",
   "metadata": {},
   "outputs": [
    {
     "name": "stdout",
     "output_type": "stream",
     "text": [
      "+---+---+\n",
      "|src|dst|\n",
      "+---+---+\n",
      "|ATL|BOS|\n",
      "|ATL|DEN|\n",
      "|ATL|DEN|\n",
      "|ATL|DTW|\n",
      "|ATL|DTW|\n",
      "+---+---+\n",
      "only showing top 5 rows\n",
      "\n"
     ]
    }
   ],
   "source": [
    "graph.edges.show(5)"
   ]
  },
  {
   "cell_type": "code",
   "execution_count": 15,
   "id": "f0545ec5-c697-4623-bb16-833e8e208846",
   "metadata": {},
   "outputs": [
    {
     "name": "stderr",
     "output_type": "stream",
     "text": [
      "/usr/local/spark/python/pyspark/sql/dataframe.py:127: UserWarning: DataFrame constructor is internal. Do not directly use it.\n",
      "  warnings.warn(\"DataFrame constructor is internal. Do not directly use it.\")\n"
     ]
    }
   ],
   "source": [
    "# Run PageRank algorithm\n",
    "results = graph.pageRank(resetProbability=0.15, maxIter=5)"
   ]
  },
  {
   "cell_type": "code",
   "execution_count": 16,
   "id": "054168cc-e3bf-4e62-afcb-45aa39142e3b",
   "metadata": {},
   "outputs": [],
   "source": [
    "# Get the most important airports based on PageRank scores\n",
    "most_important_airports = results.vertices.orderBy(results.vertices.pagerank.desc()).limit(5)"
   ]
  },
  {
   "cell_type": "code",
   "execution_count": 17,
   "id": "5658fb39-2674-4292-b5b7-a0641e5e3347",
   "metadata": {},
   "outputs": [
    {
     "name": "stdout",
     "output_type": "stream",
     "text": [
      "+---+------------------+\n",
      "| id|          pagerank|\n",
      "+---+------------------+\n",
      "|LAX| 1.958246645695028|\n",
      "|LGA|1.7189795688526857|\n",
      "|DFW| 1.687464879565661|\n",
      "|BOS|1.6450819764667992|\n",
      "|ORD|1.6256205503528556|\n",
      "+---+------------------+\n",
      "\n"
     ]
    }
   ],
   "source": [
    "# Show the results\n",
    "most_important_airports.show()"
   ]
  }
 ],
 "metadata": {
  "kernelspec": {
   "display_name": "Python 3 (ipykernel)",
   "language": "python",
   "name": "python3"
  },
  "language_info": {
   "codemirror_mode": {
    "name": "ipython",
    "version": 3
   },
   "file_extension": ".py",
   "mimetype": "text/x-python",
   "name": "python",
   "nbconvert_exporter": "python",
   "pygments_lexer": "ipython3",
   "version": "3.10.8"
  }
 },
 "nbformat": 4,
 "nbformat_minor": 5
}
